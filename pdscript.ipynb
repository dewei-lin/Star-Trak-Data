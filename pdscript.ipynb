{
 "cells": [
  {
   "cell_type": "code",
   "execution_count": 2,
   "id": "57306dd4-058d-41f7-9475-85d361eacd07",
   "metadata": {},
   "outputs": [
    {
     "name": "stdout",
     "output_type": "stream",
     "text": [
      "Total number of rows: 176\n",
      "Filtered data saved to 'filtered_episode_word_counts.csv'\n"
     ]
    }
   ],
   "source": [
    "import pandas as pd\n",
    "\n",
    "data = pd.read_csv(\"episode_word_counts.csv\")\n",
    "\n",
    "\n",
    "row_count = len(data)\n",
    "print(f\"Total number of rows: {row_count}\")\n",
    "\n",
    "\n",
    "data['row_sum'] = data.select_dtypes(include='number').sum(axis=1)\n",
    "\n",
    "\n",
    "data_filtered = data[data['row_sum'] >= 100]\n",
    "\n",
    "\n",
    "data_filtered = data_filtered.drop(columns=['row_sum'])  # Optionally remove the 'row_sum' column before saving\n",
    "data_filtered.to_csv(\"filtered_episode_word_counts.csv\", index=False)\n",
    "\n",
    "print(\"Filtered data saved to 'filtered_episode_word_counts.csv'\")\n"
   ]
  },
  {
   "cell_type": "code",
   "execution_count": null,
   "id": "fe9fe96a-78e9-4ad7-9453-3e1408a9a55a",
   "metadata": {},
   "outputs": [],
   "source": []
  }
 ],
 "metadata": {
  "kernelspec": {
   "display_name": "Python 3 (ipykernel)",
   "language": "python",
   "name": "python3"
  },
  "language_info": {
   "codemirror_mode": {
    "name": "ipython",
    "version": 3
   },
   "file_extension": ".py",
   "mimetype": "text/x-python",
   "name": "python",
   "nbconvert_exporter": "python",
   "pygments_lexer": "ipython3",
   "version": "3.10.9"
  }
 },
 "nbformat": 4,
 "nbformat_minor": 5
}
